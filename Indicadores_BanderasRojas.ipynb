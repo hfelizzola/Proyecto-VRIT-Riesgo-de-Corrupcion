{
  "nbformat": 4,
  "nbformat_minor": 0,
  "metadata": {
    "colab": {
      "name": "Indicadores-BanderasRojas.ipynb",
      "provenance": [],
      "toc_visible": true,
      "authorship_tag": "ABX9TyPZ6mkKz0OF7/lzZfVf37R3",
      "include_colab_link": true
    },
    "kernelspec": {
      "name": "python3",
      "display_name": "Python 3"
    },
    "language_info": {
      "name": "python"
    }
  },
  "cells": [
    {
      "cell_type": "markdown",
      "metadata": {
        "id": "view-in-github",
        "colab_type": "text"
      },
      "source": [
        "<a href=\"https://colab.research.google.com/github/hfelizzola/Proyecto-VRIT-Riesgo-de-Corrupcion/blob/main/Indicadores_BanderasRojas.ipynb\" target=\"_parent\"><img src=\"https://colab.research.google.com/assets/colab-badge.svg\" alt=\"Open In Colab\"/></a>"
      ]
    },
    {
      "cell_type": "markdown",
      "source": [
        "# Banderas rojas e indicadores de riesgo de corrupción en contratos de suministro"
      ],
      "metadata": {
        "id": "C1Wwa0O9JkAz"
      }
    },
    {
      "cell_type": "markdown",
      "source": [
        "# Preparar entorno de trabajo"
      ],
      "metadata": {
        "id": "A_OH3cmwL7MD"
      }
    },
    {
      "cell_type": "markdown",
      "source": [
        "## Cargar librerias"
      ],
      "metadata": {
        "id": "M9Mhu8a9Jy9M"
      }
    },
    {
      "cell_type": "code",
      "source": [
        "# Librería para datos estructurados (data frame)\n",
        "import pandas as pd\n",
        "\n",
        "# Librería para calculo y manejo de arreglos\n",
        "import numpy as np\n",
        "\n",
        "# Librerias de visualización de datos\n",
        "import matplotlib.pyplot as plt\n",
        "import seaborn as sns"
      ],
      "metadata": {
        "id": "YBYGn6aMJxbk"
      },
      "execution_count": 1,
      "outputs": []
    },
    {
      "cell_type": "markdown",
      "source": [
        "## Cargar datos de drive"
      ],
      "metadata": {
        "id": "H6lCJ4u1KYNQ"
      }
    },
    {
      "cell_type": "code",
      "execution_count": 2,
      "metadata": {
        "colab": {
          "base_uri": "https://localhost:8080/"
        },
        "id": "NLTHD9s9JcF2",
        "outputId": "40165bc6-2378-422e-98ff-2b5f0a1911b3"
      },
      "outputs": [
        {
          "output_type": "stream",
          "name": "stdout",
          "text": [
            "Mounted at /gdrive\n"
          ]
        }
      ],
      "source": [
        "# Montar google drive\n",
        "from google.colab import drive\n",
        "drive.mount('/gdrive')"
      ]
    },
    {
      "cell_type": "code",
      "source": [
        "# Configurar ruta para directorio de trabajo\n",
        "import os\n",
        "os.chdir(\"/gdrive/MyDrive/Colab Notebooks/Proyecto Riesgo Corrupción\")"
      ],
      "metadata": {
        "id": "VR_6-uqcJj15"
      },
      "execution_count": 4,
      "outputs": []
    },
    {
      "cell_type": "code",
      "source": [
        "# Verificar lista de archivos en directorio de trabajo\n",
        "!ls"
      ],
      "metadata": {
        "colab": {
          "base_uri": "https://localhost:8080/"
        },
        "id": "Bqfg_yrPLHXJ",
        "outputId": "5f82c75c-cf39-437a-c560-4aea06b27dbf"
      },
      "execution_count": 5,
      "outputs": [
        {
          "output_type": "stream",
          "name": "stdout",
          "text": [
            "compras.csv.gz\tIndicadores-BanderasRojas.ipynb\n"
          ]
        }
      ]
    },
    {
      "cell_type": "code",
      "source": [
        "# Cargar base de datos de compras\n",
        "compras = pd.read_csv('compras.csv.gz')\n",
        "compras.head()"
      ],
      "metadata": {
        "colab": {
          "base_uri": "https://localhost:8080/",
          "height": 574
        },
        "id": "OUDzD1c2LO-_",
        "outputId": "ed9bd457-2e5d-4838-aba9-29519f1d223e"
      },
      "execution_count": 6,
      "outputs": [
        {
          "output_type": "stream",
          "name": "stderr",
          "text": [
            "/usr/local/lib/python3.7/dist-packages/IPython/core/interactiveshell.py:2882: DtypeWarning: Columns (44) have mixed types.Specify dtype option on import or set low_memory=False.\n",
            "  exec(code_obj, self.user_global_ns, self.user_ns)\n"
          ]
        },
        {
          "output_type": "execute_result",
          "data": {
            "text/html": [
              "\n",
              "  <div id=\"df-cb66c49d-1687-4b52-9e5d-8d43b16c1dca\">\n",
              "    <div class=\"colab-df-container\">\n",
              "      <div>\n",
              "<style scoped>\n",
              "    .dataframe tbody tr th:only-of-type {\n",
              "        vertical-align: middle;\n",
              "    }\n",
              "\n",
              "    .dataframe tbody tr th {\n",
              "        vertical-align: top;\n",
              "    }\n",
              "\n",
              "    .dataframe thead th {\n",
              "        text-align: right;\n",
              "    }\n",
              "</style>\n",
              "<table border=\"1\" class=\"dataframe\">\n",
              "  <thead>\n",
              "    <tr style=\"text-align: right;\">\n",
              "      <th></th>\n",
              "      <th>id_contrato</th>\n",
              "      <th>anno_cargue</th>\n",
              "      <th>anno_firma</th>\n",
              "      <th>nivel_entidad</th>\n",
              "      <th>orden_entidad</th>\n",
              "      <th>nombre_entidad</th>\n",
              "      <th>nit_entidad</th>\n",
              "      <th>tipo_proceso</th>\n",
              "      <th>estado_contrato</th>\n",
              "      <th>causa_otras_formas_contr_directa</th>\n",
              "      <th>regimen_contratacion</th>\n",
              "      <th>objeto_contratar</th>\n",
              "      <th>detalle_objeto_contratar</th>\n",
              "      <th>tipo_contrato</th>\n",
              "      <th>fecha_cargue_secop</th>\n",
              "      <th>id_proceso</th>\n",
              "      <th>numero_proceso</th>\n",
              "      <th>numero_contrato</th>\n",
              "      <th>cuantia_proceso</th>\n",
              "      <th>nombre_grupo</th>\n",
              "      <th>nombre_familia</th>\n",
              "      <th>nombre_clase</th>\n",
              "      <th>tipo_id_contratista</th>\n",
              "      <th>id_contratista</th>\n",
              "      <th>razon_social_contratista</th>\n",
              "      <th>dpto_mcpo_contratista</th>\n",
              "      <th>tipo_doc_representate_legal</th>\n",
              "      <th>id_representante_legal</th>\n",
              "      <th>nombre_representante_legal</th>\n",
              "      <th>fecha_firma_contrato</th>\n",
              "      <th>fecha_inicio_ejec_contrato</th>\n",
              "      <th>plazo_ejec_contrato</th>\n",
              "      <th>rango_ejec_contrato</th>\n",
              "      <th>tiempo_adiciones_dias</th>\n",
              "      <th>tiempo_adiciones_meses</th>\n",
              "      <th>fecha_fin_ejec_contrato</th>\n",
              "      <th>cuantia_contrato</th>\n",
              "      <th>valor_adiciones</th>\n",
              "      <th>ruta_web</th>\n",
              "      <th>moneda</th>\n",
              "      <th>municipio_entidad</th>\n",
              "      <th>departamento_entidad</th>\n",
              "      <th>dep_codigo_divipola</th>\n",
              "      <th>municipio_codigo_divipola</th>\n",
              "      <th>id_contratista_mod</th>\n",
              "    </tr>\n",
              "  </thead>\n",
              "  <tbody>\n",
              "    <tr>\n",
              "      <th>0</th>\n",
              "      <td>15-4-4284454-3950808</td>\n",
              "      <td>2015</td>\n",
              "      <td>2015.0</td>\n",
              "      <td>territorial</td>\n",
              "      <td>terri-dep-centr</td>\n",
              "      <td>VALLE DEL CAUCA - INSTITUCIÓN EDUCATIVA TÉCNIC...</td>\n",
              "      <td>815004298</td>\n",
              "      <td>regimen-especial</td>\n",
              "      <td>Liquidado</td>\n",
              "      <td>Ninguna</td>\n",
              "      <td>especial</td>\n",
              "      <td>Equipos, Suministros y Accesorios para Deporte...</td>\n",
              "      <td>¿suministro de material deportivo para las pra...</td>\n",
              "      <td>Suministro</td>\n",
              "      <td>10/06/2015</td>\n",
              "      <td>15-4-4284454</td>\n",
              "      <td>1151.20.3. 008</td>\n",
              "      <td>1151.20.3. 008</td>\n",
              "      <td>6000000</td>\n",
              "      <td>[E] Productos de Uso Final</td>\n",
              "      <td>Equipo  y accesorios para deportes</td>\n",
              "      <td>Accesorios para deporte</td>\n",
              "      <td>Nit de Persona Jurídica</td>\n",
              "      <td>891303520-2</td>\n",
              "      <td>ALMACEN OLIMPICO LTDA. (JOSE ADULCARIN LANCHER...</td>\n",
              "      <td>Valle del Cauca</td>\n",
              "      <td>Nit de Persona Jurídica</td>\n",
              "      <td>891303520-2</td>\n",
              "      <td>JOSE ADULCARIN LANCHEROS</td>\n",
              "      <td>07/17/2015</td>\n",
              "      <td>07/17/2015</td>\n",
              "      <td>10</td>\n",
              "      <td>D</td>\n",
              "      <td>0</td>\n",
              "      <td>0</td>\n",
              "      <td>07/27/2015</td>\n",
              "      <td>6000000.0</td>\n",
              "      <td>0</td>\n",
              "      <td>https://www.contratos.gov.co/consultas/detalle...</td>\n",
              "      <td>Pesos (COP)</td>\n",
              "      <td>PALMIRA</td>\n",
              "      <td>valle-del-cauca</td>\n",
              "      <td>76000</td>\n",
              "      <td>76520</td>\n",
              "      <td>8913035202</td>\n",
              "    </tr>\n",
              "    <tr>\n",
              "      <th>1</th>\n",
              "      <td>19-4-8985563-8173742</td>\n",
              "      <td>2019</td>\n",
              "      <td>2018.0</td>\n",
              "      <td>territorial</td>\n",
              "      <td>terri-distr-2</td>\n",
              "      <td>BOYACÁ - E.S.E. CENTRO DE SALUD SAN RAFAEL</td>\n",
              "      <td>820003782</td>\n",
              "      <td>regimen-especial</td>\n",
              "      <td>Celebrado</td>\n",
              "      <td>Ninguna</td>\n",
              "      <td>especial</td>\n",
              "      <td>Difusión de Tecnologías de Información y Telec...</td>\n",
              "      <td>suministro de equipo de computo portatil para ...</td>\n",
              "      <td>Suministro</td>\n",
              "      <td>02/06/2019</td>\n",
              "      <td>19-4-8985563</td>\n",
              "      <td>057</td>\n",
              "      <td>057</td>\n",
              "      <td>3600000</td>\n",
              "      <td>[E] Productos de Uso Final</td>\n",
              "      <td>Equipo informático y accesorios</td>\n",
              "      <td>Computadores</td>\n",
              "      <td>Nit de Persona Natural</td>\n",
              "      <td>800234910</td>\n",
              "      <td>ASOCIACION BECERRA CASTRO Y COMPAÑIA LIMITADA</td>\n",
              "      <td>Boyacá</td>\n",
              "      <td>Cédula de Ciudadanía</td>\n",
              "      <td>7220435</td>\n",
              "      <td>ALFONSO BECERRA SANTAMARIA</td>\n",
              "      <td>11/01/2018</td>\n",
              "      <td>11/01/2018</td>\n",
              "      <td>15</td>\n",
              "      <td>D</td>\n",
              "      <td>0</td>\n",
              "      <td>0</td>\n",
              "      <td>11/16/2018</td>\n",
              "      <td>3558100.0</td>\n",
              "      <td>0</td>\n",
              "      <td>https://www.contratos.gov.co/consultas/detalle...</td>\n",
              "      <td>Pesos (COP)</td>\n",
              "      <td>UMBITA</td>\n",
              "      <td>boyacá</td>\n",
              "      <td>15000</td>\n",
              "      <td>15842</td>\n",
              "      <td>800234910</td>\n",
              "    </tr>\n",
              "    <tr>\n",
              "      <th>2</th>\n",
              "      <td>19-13-9465604-8636766</td>\n",
              "      <td>2019</td>\n",
              "      <td>2019.0</td>\n",
              "      <td>territorial</td>\n",
              "      <td>terri-distr-5</td>\n",
              "      <td>ANTIOQUIA - ALCALDÍA MUNICIPIO DE NECHÍ</td>\n",
              "      <td>800100134-1</td>\n",
              "      <td>minima-cuantia</td>\n",
              "      <td>Celebrado</td>\n",
              "      <td>Ninguna</td>\n",
              "      <td>general</td>\n",
              "      <td>Ropa, Maletas y Productos de Aseo Personal</td>\n",
              "      <td>suministro de implementos deportivos para el b...</td>\n",
              "      <td>Suministro</td>\n",
              "      <td>05/28/2019</td>\n",
              "      <td>19-13-9465604</td>\n",
              "      <td>SEMIC-031-2019</td>\n",
              "      <td>CSMC-006-2019</td>\n",
              "      <td>23179800</td>\n",
              "      <td>[E] Productos de Uso Final</td>\n",
              "      <td>Ropa</td>\n",
              "      <td>Uniformes</td>\n",
              "      <td>Nit de Persona Natural</td>\n",
              "      <td>78110240</td>\n",
              "      <td>HERNAN DE JESUS OVIEDO RODELO/ALMACEN BUEN SUE...</td>\n",
              "      <td>Antioquia</td>\n",
              "      <td>Cédula de Ciudadanía</td>\n",
              "      <td>78110240</td>\n",
              "      <td>HERNAN DE JESUS OVIEDO RODELO</td>\n",
              "      <td>06/04/2019</td>\n",
              "      <td>06/05/2019</td>\n",
              "      <td>15</td>\n",
              "      <td>D</td>\n",
              "      <td>0</td>\n",
              "      <td>0</td>\n",
              "      <td>06/20/2019</td>\n",
              "      <td>23179800.0</td>\n",
              "      <td>0</td>\n",
              "      <td>https://www.contratos.gov.co/consultas/detalle...</td>\n",
              "      <td>Pesos (COP)</td>\n",
              "      <td>NECHÍ</td>\n",
              "      <td>antioquia</td>\n",
              "      <td>5000</td>\n",
              "      <td>5495</td>\n",
              "      <td>78110240</td>\n",
              "    </tr>\n",
              "    <tr>\n",
              "      <th>3</th>\n",
              "      <td>19-13-9375191-8561989</td>\n",
              "      <td>2019</td>\n",
              "      <td>2019.0</td>\n",
              "      <td>territorial</td>\n",
              "      <td>terri-distr-6</td>\n",
              "      <td>BOYACÁ - ALCALDÍA MUNICIPIO DE RAQUIRA</td>\n",
              "      <td>891801280-6</td>\n",
              "      <td>minima-cuantia</td>\n",
              "      <td>Celebrado</td>\n",
              "      <td>Ninguna</td>\n",
              "      <td>general</td>\n",
              "      <td>Instrumentos Musicales, Juegos, Artes, Artesan...</td>\n",
              "      <td>suministro de refrigerios y materiales para la...</td>\n",
              "      <td>Suministro</td>\n",
              "      <td>05/07/2019</td>\n",
              "      <td>19-13-9375191</td>\n",
              "      <td>020 de 2019_Mínima Cuantía</td>\n",
              "      <td>017 de 2019_Suministro</td>\n",
              "      <td>14000000</td>\n",
              "      <td>[E] Productos de Uso Final</td>\n",
              "      <td>Equipo, accesorios y suministros de arte y man...</td>\n",
              "      <td>Utensilios de dibujo, suministros y accesorios</td>\n",
              "      <td>Nit de Persona Jurídica</td>\n",
              "      <td>900695457</td>\n",
              "      <td>LA UNIVERSAL DE INVERSIONES BOYACÁ S.A.S.</td>\n",
              "      <td>Boyacá</td>\n",
              "      <td>Cédula de Ciudadanía</td>\n",
              "      <td>1053343675</td>\n",
              "      <td>KAREN YURLEY VILLAMIL PINILLA</td>\n",
              "      <td>05/13/2019</td>\n",
              "      <td>05/13/2019</td>\n",
              "      <td>4</td>\n",
              "      <td>D</td>\n",
              "      <td>0</td>\n",
              "      <td>0</td>\n",
              "      <td>05/17/2019</td>\n",
              "      <td>13999800.0</td>\n",
              "      <td>0</td>\n",
              "      <td>https://www.contratos.gov.co/consultas/detalle...</td>\n",
              "      <td>Pesos (COP)</td>\n",
              "      <td>RÁQUIRA</td>\n",
              "      <td>boyacá</td>\n",
              "      <td>15000</td>\n",
              "      <td>15600</td>\n",
              "      <td>900695457</td>\n",
              "    </tr>\n",
              "    <tr>\n",
              "      <th>4</th>\n",
              "      <td>14-13-3004474-2831748</td>\n",
              "      <td>2014</td>\n",
              "      <td>2014.0</td>\n",
              "      <td>territorial</td>\n",
              "      <td>terri-distr-5</td>\n",
              "      <td>CUNDINAMARCA - ALCALDÍA MUNICIPIO DE LA MESA</td>\n",
              "      <td>890802795-3</td>\n",
              "      <td>minima-cuantia</td>\n",
              "      <td>Liquidado</td>\n",
              "      <td>Ninguna</td>\n",
              "      <td>general</td>\n",
              "      <td>Servicios de Viajes, Alimentación, Alojamiento...</td>\n",
              "      <td>suministro de alimentacion  refrigerios  trans...</td>\n",
              "      <td>Suministro</td>\n",
              "      <td>10/06/2014</td>\n",
              "      <td>14-13-3004474</td>\n",
              "      <td>IMC-035-2014</td>\n",
              "      <td>IMC-035-2014</td>\n",
              "      <td>5000000</td>\n",
              "      <td>[F] Servicios</td>\n",
              "      <td>No Definido</td>\n",
              "      <td>No Definido</td>\n",
              "      <td>Cédula de Ciudadanía</td>\n",
              "      <td>20687432</td>\n",
              "      <td>CARMEN ROSA PERILLA SOLANO</td>\n",
              "      <td>Cundinamarca</td>\n",
              "      <td>Cédula de Ciudadanía</td>\n",
              "      <td>20687432</td>\n",
              "      <td>CARMEN ROSA PINILLA  SOLANO</td>\n",
              "      <td>10/09/2014</td>\n",
              "      <td>10/10/2014</td>\n",
              "      <td>10</td>\n",
              "      <td>D</td>\n",
              "      <td>0</td>\n",
              "      <td>0</td>\n",
              "      <td>10/20/2014</td>\n",
              "      <td>5000000.0</td>\n",
              "      <td>0</td>\n",
              "      <td>https://www.contratos.gov.co/consultas/detalle...</td>\n",
              "      <td>Pesos (COP)</td>\n",
              "      <td>LA MESA</td>\n",
              "      <td>cundinamarca</td>\n",
              "      <td>25000</td>\n",
              "      <td>25386</td>\n",
              "      <td>20687432</td>\n",
              "    </tr>\n",
              "  </tbody>\n",
              "</table>\n",
              "</div>\n",
              "      <button class=\"colab-df-convert\" onclick=\"convertToInteractive('df-cb66c49d-1687-4b52-9e5d-8d43b16c1dca')\"\n",
              "              title=\"Convert this dataframe to an interactive table.\"\n",
              "              style=\"display:none;\">\n",
              "        \n",
              "  <svg xmlns=\"http://www.w3.org/2000/svg\" height=\"24px\"viewBox=\"0 0 24 24\"\n",
              "       width=\"24px\">\n",
              "    <path d=\"M0 0h24v24H0V0z\" fill=\"none\"/>\n",
              "    <path d=\"M18.56 5.44l.94 2.06.94-2.06 2.06-.94-2.06-.94-.94-2.06-.94 2.06-2.06.94zm-11 1L8.5 8.5l.94-2.06 2.06-.94-2.06-.94L8.5 2.5l-.94 2.06-2.06.94zm10 10l.94 2.06.94-2.06 2.06-.94-2.06-.94-.94-2.06-.94 2.06-2.06.94z\"/><path d=\"M17.41 7.96l-1.37-1.37c-.4-.4-.92-.59-1.43-.59-.52 0-1.04.2-1.43.59L10.3 9.45l-7.72 7.72c-.78.78-.78 2.05 0 2.83L4 21.41c.39.39.9.59 1.41.59.51 0 1.02-.2 1.41-.59l7.78-7.78 2.81-2.81c.8-.78.8-2.07 0-2.86zM5.41 20L4 18.59l7.72-7.72 1.47 1.35L5.41 20z\"/>\n",
              "  </svg>\n",
              "      </button>\n",
              "      \n",
              "  <style>\n",
              "    .colab-df-container {\n",
              "      display:flex;\n",
              "      flex-wrap:wrap;\n",
              "      gap: 12px;\n",
              "    }\n",
              "\n",
              "    .colab-df-convert {\n",
              "      background-color: #E8F0FE;\n",
              "      border: none;\n",
              "      border-radius: 50%;\n",
              "      cursor: pointer;\n",
              "      display: none;\n",
              "      fill: #1967D2;\n",
              "      height: 32px;\n",
              "      padding: 0 0 0 0;\n",
              "      width: 32px;\n",
              "    }\n",
              "\n",
              "    .colab-df-convert:hover {\n",
              "      background-color: #E2EBFA;\n",
              "      box-shadow: 0px 1px 2px rgba(60, 64, 67, 0.3), 0px 1px 3px 1px rgba(60, 64, 67, 0.15);\n",
              "      fill: #174EA6;\n",
              "    }\n",
              "\n",
              "    [theme=dark] .colab-df-convert {\n",
              "      background-color: #3B4455;\n",
              "      fill: #D2E3FC;\n",
              "    }\n",
              "\n",
              "    [theme=dark] .colab-df-convert:hover {\n",
              "      background-color: #434B5C;\n",
              "      box-shadow: 0px 1px 3px 1px rgba(0, 0, 0, 0.15);\n",
              "      filter: drop-shadow(0px 1px 2px rgba(0, 0, 0, 0.3));\n",
              "      fill: #FFFFFF;\n",
              "    }\n",
              "  </style>\n",
              "\n",
              "      <script>\n",
              "        const buttonEl =\n",
              "          document.querySelector('#df-cb66c49d-1687-4b52-9e5d-8d43b16c1dca button.colab-df-convert');\n",
              "        buttonEl.style.display =\n",
              "          google.colab.kernel.accessAllowed ? 'block' : 'none';\n",
              "\n",
              "        async function convertToInteractive(key) {\n",
              "          const element = document.querySelector('#df-cb66c49d-1687-4b52-9e5d-8d43b16c1dca');\n",
              "          const dataTable =\n",
              "            await google.colab.kernel.invokeFunction('convertToInteractive',\n",
              "                                                     [key], {});\n",
              "          if (!dataTable) return;\n",
              "\n",
              "          const docLinkHtml = 'Like what you see? Visit the ' +\n",
              "            '<a target=\"_blank\" href=https://colab.research.google.com/notebooks/data_table.ipynb>data table notebook</a>'\n",
              "            + ' to learn more about interactive tables.';\n",
              "          element.innerHTML = '';\n",
              "          dataTable['output_type'] = 'display_data';\n",
              "          await google.colab.output.renderOutput(dataTable, element);\n",
              "          const docLink = document.createElement('div');\n",
              "          docLink.innerHTML = docLinkHtml;\n",
              "          element.appendChild(docLink);\n",
              "        }\n",
              "      </script>\n",
              "    </div>\n",
              "  </div>\n",
              "  "
            ],
            "text/plain": [
              "             id_contrato  ...  id_contratista_mod\n",
              "0   15-4-4284454-3950808  ...          8913035202\n",
              "1   19-4-8985563-8173742  ...           800234910\n",
              "2  19-13-9465604-8636766  ...            78110240\n",
              "3  19-13-9375191-8561989  ...           900695457\n",
              "4  14-13-3004474-2831748  ...            20687432\n",
              "\n",
              "[5 rows x 45 columns]"
            ]
          },
          "metadata": {},
          "execution_count": 6
        }
      ]
    },
    {
      "cell_type": "code",
      "source": [
        "# Estructura de la base de datos\n",
        "compras.info()"
      ],
      "metadata": {
        "colab": {
          "base_uri": "https://localhost:8080/"
        },
        "id": "AG1ZQUp_LoDb",
        "outputId": "26c87bf8-9778-4bee-cc44-ca42c815cbdf"
      },
      "execution_count": 7,
      "outputs": [
        {
          "output_type": "stream",
          "name": "stdout",
          "text": [
            "<class 'pandas.core.frame.DataFrame'>\n",
            "RangeIndex: 1052492 entries, 0 to 1052491\n",
            "Data columns (total 45 columns):\n",
            " #   Column                            Non-Null Count    Dtype  \n",
            "---  ------                            --------------    -----  \n",
            " 0   id_contrato                       1052492 non-null  object \n",
            " 1   anno_cargue                       1052492 non-null  int64  \n",
            " 2   anno_firma                        1052492 non-null  float64\n",
            " 3   nivel_entidad                     1052492 non-null  object \n",
            " 4   orden_entidad                     1052492 non-null  object \n",
            " 5   nombre_entidad                    1052492 non-null  object \n",
            " 6   nit_entidad                       1052492 non-null  object \n",
            " 7   tipo_proceso                      1052492 non-null  object \n",
            " 8   estado_contrato                   1052492 non-null  object \n",
            " 9   causa_otras_formas_contr_directa  1052492 non-null  object \n",
            " 10  regimen_contratacion              1052492 non-null  object \n",
            " 11  objeto_contratar                  1052492 non-null  object \n",
            " 12  detalle_objeto_contratar          1052439 non-null  object \n",
            " 13  tipo_contrato                     1052492 non-null  object \n",
            " 14  fecha_cargue_secop                1052492 non-null  object \n",
            " 15  id_proceso                        1052492 non-null  object \n",
            " 16  numero_proceso                    1052433 non-null  object \n",
            " 17  numero_contrato                   1052304 non-null  object \n",
            " 18  cuantia_proceso                   1052492 non-null  int64  \n",
            " 19  nombre_grupo                      1052492 non-null  object \n",
            " 20  nombre_familia                    1052492 non-null  object \n",
            " 21  nombre_clase                      1052492 non-null  object \n",
            " 22  tipo_id_contratista               1052492 non-null  object \n",
            " 23  id_contratista                    1052482 non-null  object \n",
            " 24  razon_social_contratista          1052479 non-null  object \n",
            " 25  dpto_mcpo_contratista             1052492 non-null  object \n",
            " 26  tipo_doc_representate_legal       1052492 non-null  object \n",
            " 27  id_representante_legal            1051989 non-null  object \n",
            " 28  nombre_representante_legal        1051422 non-null  object \n",
            " 29  fecha_firma_contrato              1052492 non-null  object \n",
            " 30  fecha_inicio_ejec_contrato        1052492 non-null  object \n",
            " 31  plazo_ejec_contrato               1052492 non-null  int64  \n",
            " 32  rango_ejec_contrato               1052492 non-null  object \n",
            " 33  tiempo_adiciones_dias             1052492 non-null  int64  \n",
            " 34  tiempo_adiciones_meses            1052492 non-null  int64  \n",
            " 35  fecha_fin_ejec_contrato           1050645 non-null  object \n",
            " 36  cuantia_contrato                  1051860 non-null  float64\n",
            " 37  valor_adiciones                   1052492 non-null  int64  \n",
            " 38  ruta_web                          1052492 non-null  object \n",
            " 39  moneda                            1052492 non-null  object \n",
            " 40  municipio_entidad                 1052492 non-null  object \n",
            " 41  departamento_entidad              1052492 non-null  object \n",
            " 42  dep_codigo_divipola               1052492 non-null  int64  \n",
            " 43  municipio_codigo_divipola         1052492 non-null  int64  \n",
            " 44  id_contratista_mod                1051757 non-null  object \n",
            "dtypes: float64(2), int64(8), object(35)\n",
            "memory usage: 361.3+ MB\n"
          ]
        }
      ]
    },
    {
      "cell_type": "markdown",
      "source": [
        "# Análisis exploratorio de datos"
      ],
      "metadata": {
        "id": "Eh41Nm3hMCGl"
      }
    },
    {
      "cell_type": "code",
      "source": [
        ""
      ],
      "metadata": {
        "id": "kimxvu7CMBcM"
      },
      "execution_count": null,
      "outputs": []
    },
    {
      "cell_type": "markdown",
      "source": [
        "# Banderas rojas"
      ],
      "metadata": {
        "id": "8nofpGUFLy6Q"
      }
    },
    {
      "cell_type": "code",
      "source": [
        ""
      ],
      "metadata": {
        "id": "27w3R7izMNOf"
      },
      "execution_count": null,
      "outputs": []
    },
    {
      "cell_type": "code",
      "source": [
        ""
      ],
      "metadata": {
        "id": "OoEuCZYLLx_z"
      },
      "execution_count": null,
      "outputs": []
    },
    {
      "cell_type": "markdown",
      "source": [
        "# Indicadores de riesgo de corrupción"
      ],
      "metadata": {
        "id": "_3QUcA9nMLVj"
      }
    },
    {
      "cell_type": "code",
      "source": [
        ""
      ],
      "metadata": {
        "id": "ixm-e5kpMORw"
      },
      "execution_count": null,
      "outputs": []
    }
  ]
}